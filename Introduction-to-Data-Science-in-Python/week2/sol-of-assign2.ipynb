{
 "cells": [
  {
   "cell_type": "code",
   "execution_count": 22,
   "id": "02782013",
   "metadata": {},
   "outputs": [
    {
     "name": "stdout",
     "output_type": "stream",
     "text": [
      "{'less than high school': 0.10202002459160373, 'high school': 0.172352011241876, 'more than high school but not college': 0.24588090637625154, 'college': 0.47974705779026877}\n"
     ]
    }
   ],
   "source": [
    "#def proportion_of_education():\n",
    "import numpy as np\n",
    "import pandas as pd\n",
    "df=pd.read_csv( 'NISPUF17.csv' ) #df is a DataFrame\n",
    "\n",
    "#creat a list\n",
    "result = {\"less than high school\": 0,\n",
    "        \"high school\": 0,\n",
    "        \"more than high school but not college\": 0,\n",
    "        \"college\": 0}\n",
    "\n",
    "#df['EDUC1'] is a series\n",
    "length=len(df['EDUC1'])\n",
    "\n",
    "result['less than high school']=np.sum(df.EDUC1==1)/length\n",
    "result['high school']=np.sum(df.EDUC1==2)/length\n",
    "result['more than high school but not college']=np.sum(df.EDUC1==3)/length\n",
    "result['college']=np.sum(df.EDUC1==4)/length\n",
    "#print(result)"
   ]
  },
  {
   "cell_type": "code",
   "execution_count": 32,
   "id": "2fd03018",
   "metadata": {},
   "outputs": [
    {
     "data": {
      "text/plain": [
       "(1.8799187420058687, 1.5963945918878317)"
      ]
     },
     "execution_count": 32,
     "metadata": {},
     "output_type": "execute_result"
    }
   ],
   "source": [
    "def average_influenza_doses():\n",
    "    import pandas as pd\n",
    "    import numpy as np\n",
    "    df = pd.read_csv('NISPUF17.csv')\n",
    "    \n",
    "    #take out DataFrame\n",
    "    children_being_fed_vac= df[['CBF_01','P_NUMFLU']]\n",
    "\n",
    "    cbf_vac1 = children_being_fed_vac[children_being_fed_vac['CBF_01'] == 1].dropna()\n",
    "    cbf_vac2 = children_being_fed_vac[children_being_fed_vac['CBF_01'] == 2].dropna()\n",
    "\n",
    "    flu1 = cbf_vac1['P_NUMFLU']\n",
    "    f1 = flu1.sum() / len(flu1)\n",
    "\n",
    "    flu2 = cbf_vac2['P_NUMFLU']\n",
    "    f2 = flu2.sum() / len(flu2)\n",
    "\n",
    "    return (f1,f2)\n",
    "average_influenza_doses()\n"
   ]
  },
  {
   "cell_type": "code",
   "execution_count": 53,
   "id": "bd8fd40e",
   "metadata": {},
   "outputs": [
    {
     "name": "stdout",
     "output_type": "stream",
     "text": [
      "0.0077918259335489565\n",
      "2\n"
     ]
    }
   ],
   "source": [
    "import numpy as np\n",
    "import pandas as pd\n",
    "df = pd.read_csv('NISPUF17.csv')\n",
    "    \n",
    "#take out DataFrame\n",
    "chickenpox_sex=df[df['P_NUMVRC'].gt(0) & df['HAD_CPOX'].lt(3)].loc[:,['HAD_CPOX','SEX']]\n",
    "\n",
    "result = {\"male\": 0,\n",
    "        \"female\": 0}\n",
    " \n",
    "male = chickenpox_sex[chickenpox_sex['SEX'] == 1].dropna()\n",
    "female = chickenpox_sex[chickenpox_sex['SEX'] == 2].dropna()\n",
    "\n",
    "male_cpox1=male[male['HAD_CPOX']==1]\n",
    "male_cpox2=male[male['HAD_CPOX']==2]\n",
    "\n",
    "female_cpox1=female[female['HAD_CPOX']==1]\n",
    "female_cpox2=female[female['HAD_CPOX']==2]\n",
    "\n",
    "result['male'] = len(male_cpox1)/len(male_cpox2)\n",
    "result['female'] =len(female_cpox1)/len(female_cpox2)\n",
    "\n",
    "print(result['female'])\n"
   ]
  },
  {
   "cell_type": "code",
   "execution_count": 67,
   "id": "99c0336d",
   "metadata": {},
   "outputs": [],
   "source": [
    "import scipy.stats as stats\n",
    "import numpy as np\n",
    "import pandas as pd\n",
    "   \n",
    "# this is just an example dataframe\n",
    "# df=pd.DataFrame({\"had_chickenpox_column\":np.random.randint(1,3,size=(100)),\n",
    "#             \"num_chickenpox_vaccine_column\":np.random.randint(0,6,size=(100))})\n",
    "df = pd.read_csv(\"NISPUF17.csv\")\n",
    "\n",
    "df=df.where(df['HAD_CPOX'].lt(3)).loc[:,['HAD_CPOX','P_NUMVRC']].dropna()\n",
    "df.columns=['had_chickenpox_column','num_chickenpox_vaccine_column']\n",
    "# here is some stub code to actually run the correlation\n",
    "corr, pval=stats.pearsonr(df[\"had_chickenpox_column\"],df[\"num_chickenpox_vaccine_column\"])\n",
    "   \n",
    "    "
   ]
  },
  {
   "cell_type": "code",
   "execution_count": null,
   "id": "ad64473d",
   "metadata": {},
   "outputs": [],
   "source": []
  },
  {
   "cell_type": "code",
   "execution_count": null,
   "id": "23741093",
   "metadata": {},
   "outputs": [],
   "source": []
  }
 ],
 "metadata": {
  "kernelspec": {
   "display_name": "Python 3 (ipykernel)",
   "language": "python",
   "name": "python3"
  },
  "language_info": {
   "codemirror_mode": {
    "name": "ipython",
    "version": 3
   },
   "file_extension": ".py",
   "mimetype": "text/x-python",
   "name": "python",
   "nbconvert_exporter": "python",
   "pygments_lexer": "ipython3",
   "version": "3.9.7"
  }
 },
 "nbformat": 4,
 "nbformat_minor": 5
}
